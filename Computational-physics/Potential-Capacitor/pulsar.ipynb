{
 "cells": [
  {
   "cell_type": "code",
   "execution_count": 115,
   "metadata": {},
   "outputs": [],
   "source": [
    "import matplotlib.pyplot as plt\n",
    "import numpy as np\n",
    "from scipy.fft import fft, fftfreq, rfft\n",
    "from scipy.signal import find_peaks"
   ]
  },
  {
   "cell_type": "code",
   "execution_count": 116,
   "metadata": {},
   "outputs": [],
   "source": [
    "dati = np.loadtxt(\"1808_lc.dat\")   # Carica i dati del file nella variabile dati\n",
    "\n",
    "x = dati[:,0]                      # Salva la prima colonna in x, ovvero il tempo\n",
    "y = dati[:,1]                      # Salva la seconda colonna in y, ovvero il numero di fotoni"
   ]
  },
  {
   "cell_type": "code",
   "execution_count": 117,
   "metadata": {},
   "outputs": [],
   "source": [
    "tau = x[1] - x[0]                 # Tempo minimo misurato, time-step\n",
    "T = x[-1]                         # Tempo dell'esperimento\n",
    "N = len(x)                        # Lunghezza dell'array x\n",
    "freq = np.arange(N//2 + 1) / T    # Calcola la frequenza per ogni istante di tempo"
   ]
  },
  {
   "cell_type": "code",
   "execution_count": 118,
   "metadata": {},
   "outputs": [],
   "source": [
    "yf = rfft(y) * tau                # Trasformata solo della parte reale, scartate le frequenze negative\n",
    "yf_abs = np.abs(yf)               # Valore assoluto della trasformata"
   ]
  },
  {
   "cell_type": "code",
   "execution_count": 121,
   "metadata": {},
   "outputs": [],
   "source": [
    "y_final = yf_abs**2\n",
    "fft_pezzo = y_final[0:210000]    \n",
    "freq_pezzo = freq[0:210000]       # Taglia le frequenze alte perchè non sono presenti picchi\n",
    "\n",
    "peaks, _ = find_peaks(fft_pezzo, prominence=2e7)"
   ]
  },
  {
   "cell_type": "code",
   "execution_count": 125,
   "metadata": {},
   "outputs": [
    {
     "data": {
      "image/png": "[encoded data removed]",
      "text/plain": [
       "<Figure size 936x288 with 1 Axes>"
      ]
     },
     "metadata": {
      "needs_background": "light"
     },
     "output_type": "display_data"
    }
   ],
   "source": [
    "norm = fft_pezzo[peaks[-1]]        # Prende il valore delle y in corrispondenza della frequenza cercata\n",
    "\n",
    "y_graf = y_final[50:300000] / norm # Normalizza i dati per ottenere un picco visibile\n",
    "freq_graf = freq[50:300000]        # Taglia le prime frequenze per eliminare il picco al tempo zero\n",
    "\n",
    "fig1, ax1 = plt.subplots()\n",
    "fig1.set_figwidth(13)\n",
    "\n",
    "ax1.plot(freq_graf, y_graf, color=\"black\")\n",
    "\n",
    "ax1.set_ylabel(\"fft normalizzata\", style=\"italic\")\n",
    "ax1.set_xlabel(\"frequenza (Hz)\", style=\"italic\")\n",
    "ax1.set_title(\"Spettro di potenza normalizzato\", style=\"italic\")\n",
    "\n",
    "fig1.savefig(\"SpettroPotenza.jpg\")"
   ]
  },
  {
   "cell_type": "code",
   "execution_count": 124,
   "metadata": {},
   "outputs": [
    {
     "name": "stdout",
     "output_type": "stream",
     "text": [
      "Frequenza di pulsazione = 400.99032997853493 Hz\n",
      "Periodo = 2.493825724060553 ms\n"
     ]
    }
   ],
   "source": [
    "frequenza = freq[peaks[-1]]   # Hz\n",
    "periodo = 1000 / frequenza       # ms   \n",
    "print(\"Frequenza di pulsazione =\", frequenza, \"Hz\")\n",
    "print(\"Periodo =\", periodo, \"ms\")  # ms"
   ]
  }
 ],
 "metadata": {
  "interpreter": {
   "hash": "3066e88ee124aa37d17f3075f2b341cc104ee7c24151c7486bbf60ed81384b48"
  },
  "kernelspec": {
   "display_name": "Python 3 (ipykernel)",
   "language": "python",
   "name": "python3"
  },
  "language_info": {
   "codemirror_mode": {
    "name": "ipython",
    "version": 3
   },
   "file_extension": ".py",
   "mimetype": "text/x-python",
   "name": "python",
   "nbconvert_exporter": "python",
   "pygments_lexer": "ipython3",
   "version": "3.9.12"
  }
 },
 "nbformat": 4,
 "nbformat_minor": 2
}
